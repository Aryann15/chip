{
  "nbformat": 4,
  "nbformat_minor": 0,
  "metadata": {
    "colab": {
      "provenance": [],
      "authorship_tag": "ABX9TyNeJtsMZSg/Rb3oQ8w1QBz1",
      "include_colab_link": true
    },
    "kernelspec": {
      "name": "python3",
      "display_name": "Python 3"
    },
    "language_info": {
      "name": "python"
    }
  },
  "cells": [
    {
      "cell_type": "markdown",
      "metadata": {
        "id": "view-in-github",
        "colab_type": "text"
      },
      "source": [
        "<a href=\"https://colab.research.google.com/github/Aryann15/chip/blob/master/Rough.ipynb\" target=\"_parent\"><img src=\"https://colab.research.google.com/assets/colab-badge.svg\" alt=\"Open In Colab\"/></a>"
      ]
    },
    {
      "cell_type": "code",
      "execution_count": 20,
      "metadata": {
        "id": "ZoGZFeBSW_7D"
      },
      "outputs": [],
      "source": [
        "from langchain.document_loaders import YoutubeLoader\n",
        "from langchain.llms import OpenAI\n",
        "from langchain.chains.summarize import load_summarize_chain\n",
        "from langchain.text_splitter import RecursiveCharacterTextSplitter\n",
        "from langchain import PromptTemplate\n",
        "from langchain.schema import SystemMessage\n",
        "from langchain.callbacks import get_openai_callback\n",
        "from langchain.agents import AgentType\n",
        "from langchain.agents import initialize_agent\n",
        "from langchain.text_splitter import CharacterTextSplitter"
      ]
    },
    {
      "cell_type": "code",
      "source": [
        "!pip install openai"
      ],
      "metadata": {
        "colab": {
          "base_uri": "https://localhost:8080/"
        },
        "id": "5oA6rInOnUff",
        "outputId": "767ec2cd-2a07-4e2f-fdc3-4f806998abb3"
      },
      "execution_count": 21,
      "outputs": [
        {
          "output_type": "stream",
          "name": "stdout",
          "text": [
            "Requirement already satisfied: openai in /usr/local/lib/python3.10/dist-packages (0.28.1)\n",
            "Requirement already satisfied: requests>=2.20 in /usr/local/lib/python3.10/dist-packages (from openai) (2.31.0)\n",
            "Requirement already satisfied: tqdm in /usr/local/lib/python3.10/dist-packages (from openai) (4.66.1)\n",
            "Requirement already satisfied: aiohttp in /usr/local/lib/python3.10/dist-packages (from openai) (3.8.6)\n",
            "Requirement already satisfied: charset-normalizer<4,>=2 in /usr/local/lib/python3.10/dist-packages (from requests>=2.20->openai) (3.3.0)\n",
            "Requirement already satisfied: idna<4,>=2.5 in /usr/local/lib/python3.10/dist-packages (from requests>=2.20->openai) (3.4)\n",
            "Requirement already satisfied: urllib3<3,>=1.21.1 in /usr/local/lib/python3.10/dist-packages (from requests>=2.20->openai) (2.0.6)\n",
            "Requirement already satisfied: certifi>=2017.4.17 in /usr/local/lib/python3.10/dist-packages (from requests>=2.20->openai) (2023.7.22)\n",
            "Requirement already satisfied: attrs>=17.3.0 in /usr/local/lib/python3.10/dist-packages (from aiohttp->openai) (23.1.0)\n",
            "Requirement already satisfied: multidict<7.0,>=4.5 in /usr/local/lib/python3.10/dist-packages (from aiohttp->openai) (6.0.4)\n",
            "Requirement already satisfied: async-timeout<5.0,>=4.0.0a3 in /usr/local/lib/python3.10/dist-packages (from aiohttp->openai) (4.0.3)\n",
            "Requirement already satisfied: yarl<2.0,>=1.0 in /usr/local/lib/python3.10/dist-packages (from aiohttp->openai) (1.9.2)\n",
            "Requirement already satisfied: frozenlist>=1.1.1 in /usr/local/lib/python3.10/dist-packages (from aiohttp->openai) (1.4.0)\n",
            "Requirement already satisfied: aiosignal>=1.1.2 in /usr/local/lib/python3.10/dist-packages (from aiohttp->openai) (1.3.1)\n"
          ]
        }
      ]
    },
    {
      "cell_type": "code",
      "source": [
        "!pip install langchain"
      ],
      "metadata": {
        "colab": {
          "base_uri": "https://localhost:8080/"
        },
        "id": "4A16WvFCXEOf",
        "outputId": "7ece8424-d773-419d-c1e1-5f7d645c2a71"
      },
      "execution_count": 22,
      "outputs": [
        {
          "output_type": "stream",
          "name": "stdout",
          "text": [
            "Requirement already satisfied: langchain in /usr/local/lib/python3.10/dist-packages (0.0.314)\n",
            "Requirement already satisfied: PyYAML>=5.3 in /usr/local/lib/python3.10/dist-packages (from langchain) (6.0.1)\n",
            "Requirement already satisfied: SQLAlchemy<3,>=1.4 in /usr/local/lib/python3.10/dist-packages (from langchain) (2.0.21)\n",
            "Requirement already satisfied: aiohttp<4.0.0,>=3.8.3 in /usr/local/lib/python3.10/dist-packages (from langchain) (3.8.6)\n",
            "Requirement already satisfied: anyio<4.0 in /usr/local/lib/python3.10/dist-packages (from langchain) (3.7.1)\n",
            "Requirement already satisfied: async-timeout<5.0.0,>=4.0.0 in /usr/local/lib/python3.10/dist-packages (from langchain) (4.0.3)\n",
            "Requirement already satisfied: dataclasses-json<0.7,>=0.5.7 in /usr/local/lib/python3.10/dist-packages (from langchain) (0.6.1)\n",
            "Requirement already satisfied: jsonpatch<2.0,>=1.33 in /usr/local/lib/python3.10/dist-packages (from langchain) (1.33)\n",
            "Requirement already satisfied: langsmith<0.1.0,>=0.0.43 in /usr/local/lib/python3.10/dist-packages (from langchain) (0.0.43)\n",
            "Requirement already satisfied: numpy<2,>=1 in /usr/local/lib/python3.10/dist-packages (from langchain) (1.23.5)\n",
            "Requirement already satisfied: pydantic<3,>=1 in /usr/local/lib/python3.10/dist-packages (from langchain) (1.10.13)\n",
            "Requirement already satisfied: requests<3,>=2 in /usr/local/lib/python3.10/dist-packages (from langchain) (2.31.0)\n",
            "Requirement already satisfied: tenacity<9.0.0,>=8.1.0 in /usr/local/lib/python3.10/dist-packages (from langchain) (8.2.3)\n",
            "Requirement already satisfied: attrs>=17.3.0 in /usr/local/lib/python3.10/dist-packages (from aiohttp<4.0.0,>=3.8.3->langchain) (23.1.0)\n",
            "Requirement already satisfied: charset-normalizer<4.0,>=2.0 in /usr/local/lib/python3.10/dist-packages (from aiohttp<4.0.0,>=3.8.3->langchain) (3.3.0)\n",
            "Requirement already satisfied: multidict<7.0,>=4.5 in /usr/local/lib/python3.10/dist-packages (from aiohttp<4.0.0,>=3.8.3->langchain) (6.0.4)\n",
            "Requirement already satisfied: yarl<2.0,>=1.0 in /usr/local/lib/python3.10/dist-packages (from aiohttp<4.0.0,>=3.8.3->langchain) (1.9.2)\n",
            "Requirement already satisfied: frozenlist>=1.1.1 in /usr/local/lib/python3.10/dist-packages (from aiohttp<4.0.0,>=3.8.3->langchain) (1.4.0)\n",
            "Requirement already satisfied: aiosignal>=1.1.2 in /usr/local/lib/python3.10/dist-packages (from aiohttp<4.0.0,>=3.8.3->langchain) (1.3.1)\n",
            "Requirement already satisfied: idna>=2.8 in /usr/local/lib/python3.10/dist-packages (from anyio<4.0->langchain) (3.4)\n",
            "Requirement already satisfied: sniffio>=1.1 in /usr/local/lib/python3.10/dist-packages (from anyio<4.0->langchain) (1.3.0)\n",
            "Requirement already satisfied: exceptiongroup in /usr/local/lib/python3.10/dist-packages (from anyio<4.0->langchain) (1.1.3)\n",
            "Requirement already satisfied: marshmallow<4.0.0,>=3.18.0 in /usr/local/lib/python3.10/dist-packages (from dataclasses-json<0.7,>=0.5.7->langchain) (3.20.1)\n",
            "Requirement already satisfied: typing-inspect<1,>=0.4.0 in /usr/local/lib/python3.10/dist-packages (from dataclasses-json<0.7,>=0.5.7->langchain) (0.9.0)\n",
            "Requirement already satisfied: jsonpointer>=1.9 in /usr/local/lib/python3.10/dist-packages (from jsonpatch<2.0,>=1.33->langchain) (2.4)\n",
            "Requirement already satisfied: typing-extensions>=4.2.0 in /usr/local/lib/python3.10/dist-packages (from pydantic<3,>=1->langchain) (4.5.0)\n",
            "Requirement already satisfied: urllib3<3,>=1.21.1 in /usr/local/lib/python3.10/dist-packages (from requests<3,>=2->langchain) (2.0.6)\n",
            "Requirement already satisfied: certifi>=2017.4.17 in /usr/local/lib/python3.10/dist-packages (from requests<3,>=2->langchain) (2023.7.22)\n",
            "Requirement already satisfied: greenlet!=0.4.17 in /usr/local/lib/python3.10/dist-packages (from SQLAlchemy<3,>=1.4->langchain) (3.0.0)\n",
            "Requirement already satisfied: packaging>=17.0 in /usr/local/lib/python3.10/dist-packages (from marshmallow<4.0.0,>=3.18.0->dataclasses-json<0.7,>=0.5.7->langchain) (23.2)\n",
            "Requirement already satisfied: mypy-extensions>=0.3.0 in /usr/local/lib/python3.10/dist-packages (from typing-inspect<1,>=0.4.0->dataclasses-json<0.7,>=0.5.7->langchain) (1.0.0)\n"
          ]
        }
      ]
    },
    {
      "cell_type": "code",
      "source": [
        "OPENAI_API_KEY=\"my_api-key\""
      ],
      "metadata": {
        "id": "DqkJ2NDDX7D2"
      },
      "execution_count": 23,
      "outputs": []
    },
    {
      "cell_type": "code",
      "source": [
        "\n",
        "def get_text():\n",
        "  url_lists = [\"https://www.youtube.com/watch?v=_i_XWx05FTw\", \"https://www.youtube.com/watch?v=f4g2nPY-VZc\",\"https://www.youtube.com/watch?v=3XpK9fM_HDM\"]\n",
        "  llm = OpenAI(temperature=0, openai_api_key = OPENAI_API_KEY)\n",
        "  texts = \"\"\n",
        "  for url in url_lists:\n",
        "      loader = YoutubeLoader.from_youtube_url(url, add_video_info=True)\n",
        "      result = loader.load()\n",
        "      for document in result:\n",
        "        texts.append(document.page_content)\n",
        "\n",
        "  return texts\n",
        "\n",
        "def get_text_chunk(texts):\n",
        "  text_splitter = CharacterTextSplitter(separator =\"\\n\", chunk_size = 1000 , chunk_overlap = 200 , length_function = len)\n",
        "  chunks = text_splitter.split_text(texts)\n",
        "  return chunks\n",
        "\n",
        "\n",
        "def main():\n",
        "\n"
      ],
      "metadata": {
        "id": "zmwx5OnPXrOz",
        "colab": {
          "base_uri": "https://localhost:8080/"
        },
        "outputId": "12c24c0e-32aa-4ac1-eacf-0d365dc086a1"
      },
      "execution_count": 35,
      "outputs": [
        {
          "output_type": "execute_result",
          "data": {
            "text/plain": [
              "[\"good people i'm dmitry and this base model macbook air m1 has totally changed how i work on a daily basis let me explain in short this is the best computer i've ever owned shocking news i know considering how many notebooks have gone through my hands how many pcs i've built myself but welcome to my long-term review of the macbook air m1 base model and why i think you should get one i will talk about all my workflow integrations between the m1 between my editing pc and my gaming pc plus we'll do a few live demos to show you how powerful this baseline machine is for what i use it for plus how ridiculous the baseline storage configuration really is you've probably already seen a thousand reviews of this machine so this is not a benchmark video but if you haven't bought one yet perhaps this video will nudge you in one direction or the other my wife loves it she says uh it fits in her purse it doesn't hurt her back it's light and small and it gets the job done all right so let me tell you everything i want to tell you about this machine right after this play your games the right way with the much improved virtuoso rgb wireless xt with bluetooth support fantastic swivel hinges deeper ear cushions tactile controls with usb-c charging a beefy microphone to step up your comms game and awesome wireless sound reproduction check it out below right off the bat i've probably done over 200 video calls for this thing webcam quality is possible it's still 720p but the microphone quality is super impressive if you want to record voice memos leave messages be on calls with someone microphone in this thing is really good quality despite the small body on this thing the speakers on the air are mind-blowing with large and powerful output that puts all my windows notebooks that i've used in the past to shame and that just shows that apple does the basics right [Music] the headphone output is also respectable delivering clean non-hissy audio regardless of the load on the machine i cannot say the same about my razer blade pro 17 that even at like really light tasks it's a hiss fest i gotta plug in an external amp because otherwise their internals mess up the audio signal on my blade i love the new updated keyboard it's fast to get used to just enough travel distance and a silent profile the backlight function is now in the command center for manual control but it's always smart enough to auto adjust anyway while the trackpad is best in class zero complaints all right so the dual thunderbolt three ports on the side honestly for my use and a simple hub it's a non-issue so for one of the ports i run my pro r display that charges the m1 as well with the same cable while the other port is reserved for the hub if i need to offload files from an sd card for example or use my external storage devices now you can only run a single external display with these m1 machines which for me is perfectly reasonable i'm not running like multi monitor setup with the tiny macbook air but eber made a really interesting observation as to why the intel version of the 13 inch macbook pro is still being sold by apple and that's because those machines can run two external displays because of the higher pcie bandwidth however the performance compromise you get with the intel machines is not really worth it in my opinion so i'd still choose the m1 uh even though you can only run a single external display also more importantly the performance with these thunderbolt ports has been always consistent regardless of what i plug into them but unfortunately i've had lots of weird slow down issues when i'm using usb-c thunderbolt ports on my razer blade where one day everything has been transferred at full speed another day i'm limited to 40 megabytes per second for like reading something off my really fast t5 ssd none of that with the m1 and that makes me happy so every morning this gets plugged into my pro r display the instant on nature of these m1 machines is fantastic as there's absolutely no waiting around and also the automatic unlock if i'm wearing the apple watch is speedy but i also love the fingerprint unlock that's also your power button and you can do all your purchases with it fill in passwords it's fantastic the battery in this configuration gets charged and i answer all my morning emails but the impressive part about this configuration behind me is power consumption and how much lower it is for doing basic productivity things without me needing to turn on my editing machine that consumes so much more power but also something many windows users will appreciate if you're coming from a previous windows machine is the consistent performance while on battery so you don't get a performance penalty by just unplugging the power cable which is not something you can save for any windows machine okay and you can check out our fascinating analysis right over here all right so i am confident to say that everything you've heard about battery life with these machines is true the m1s are incredible so i'll be using this every morning for a couple of hours for email i have twitch running in the background i have discord open talking to my guys maybe some music playing in the background as well and i would lose about 30 percent throughout my work day okay that is incredible even though the included 30 watt charger is pretty compact it actually never goes in my bag unless i leave for a couple of days in general battery life is so good it is never a concern i lose about 10 every two hours during my productivity tasks so take that with what you will or what's the saying take that for what you will all right so this macbook air m1 has been instrumental for my thumbnail creation so i'm right now in adobe lightroom everything is working just fine like you'd expect in terms of performance it's just as smooth as my rtx38 machine and i have absolutely no issues here and i can just go back into photoshop for the final touches adding some text layers manipulating everything else that's around uh and it's really smooth i haven't had any issues here it's only when we get into davinci resolve where it doesn't really play back in real time with all my grades applied but final cut works absolutely without issues and hiccups for all types of creative and productivity applications the macbook air m1 handles everything just fine now the main reason i got the base model is because doing thumbnails and general productivity would be the limit of how i would use this machine but now looking back i think that might have been a mistake for two reasons the main one is storage 256 gigabytes is an absolute joke i don't even save any files on here and having the remaining 150 gigabyte capacity is not even large enough to back up my 256 gigabyte iphone while the second part of that conversation is the eight gigs of ram that if you don't really want to future proof on how you can use this machine for a bit more productivity a bit more multitasking 16 gigabytes is a significant improvement in performance all around and my good friend escrine uses the 16 gigabyte model for absolutely everything when it comes to video production and there's absolutely no slow downs and it's insane how powerful it is whereas on my eight gigabytes i'm noticing some slow downs here and there the machine has crashed while i was watching a youtube video when i installed grammarly through safari it just kind of you know it starts to spin and eventually it shut down my air was not responding while adobe creative cloud was updating and a few of those instances where i'm sure it's not just because of the memory but when you have so many things open it's one of those things where our expectations have come up so high for the m1 that we expect even the base model to perform incredibly well and it does but not when you really really push it to the limit so for power users 16 gigabytes is a must plus you get that additional gpu core for slightly more smoother more future proof experience down the line also the completely fanless nature of the m1 airs is something you will definitely appreciate once your chunky windows notebook cannot keep quiet even at idle while i can be exporting things from lightroom or davinci or final cut and be completely silent the last two things are the display and the form factor so the hinge is absolutely perfect you can open it with one hand there's no wobble while you're typing i really appreciate it it's a 16 by 10 aspect ratio or something that ever asks on every single windows notebook review the resolution here is excellent especially with mac os scaling and the true tone which warms up the the colors a bit uh depending on the time of day really pleasant for the eyes we have glass here that you have to clean occasionally and i don't really care about the slightly chunkier bezels the screen for the base model is fantastic it is not as bright as the pro model but still for a thousand bucks it is the best screen you can get as for the form factor it's the same macbook air what can you expect fits into everything weighs nothing at 1.3 kilos and it's a solid chunk of aluminum for a premium build computer so what can i say after six months of using this device it's the best computer for a thousand dollars you can buy in terms of like a really complete portable package without any major compromises uh unless you're choosing the base model and want some insane productivity multitasking whereas the eight gigabyte ram versus 16 gigabytes there's a significant performance difference there so if you want that future proofing and you're gonna be doing a thousand things and want proper playback and the additional uh gpu core then get the 16 gigabyte uh model but otherwise as the macbook air it does everything and more for me the eight gigs is fine because i do all the heavy lifting on all my other machines but as a portable everything else but video production this thing is awesome all right guys i hope you enjoyed this uh long-term coverage and yeah subscribe if you haven't already let me know what you think if you have experienced the m1 in your life and i'll talk to you in the next video\",\n",
              " '- You know what I don\\'t understand, Andy? Why do they call it the MacBook Air? It\\'s not like it was a mistake. Get it, error? MacBook Error? - [Andy] Okay. - It\\'s been one of their most\\nsuccessful products ever. They should call it the MacBook Success. - [Andy] Or MacBook Correct. - Yeah, MacBook Correct. This is it, ladies and gentlemen. This is the Apple Silicon MacBook Air. And it\\'s been a couple hours since I unboxed the\\nApple Silicon Mac mini, and already Anthony has been\\nworking on putting together our Linus Tech Tips review, and he says, and I quote, \"Impressions so far are pretty good.\" That is a good sign. Now, of course, what we don\\'t know yet is if the MacBook Air,\\nwhether for thermal reasons or power reasons or any other reason, might be a little bit lesser\\nthan the MacBook mini. But we are certainly going to\\nbe finding that out for you, ladies and gentlemen. It\\'s available in pretty much exactly the same configurations\\nas the other devices. So we went for the 8-core CPU, 8-core GPU. - [Andy] The base model\\ndoes not have an 8-core GPU. - Oh, it\\'s 7-core, isn\\'t it? - [Andy] Yeah. - So sorry, there is a base\\nmodel with a 7-core GPU. 16 gigs of RAM, so you can\\nhave eight or 16 gigs of RAM, not 32 because the whole\\nthing is integrated together into one tight little package. We\\'ve got 512 gigs of storage, and, of course, a US keyboard layout. This is it. It\\'s a 13.3-inch display. Hold on. Let\\'s have a look at what else is in here. We\\'ve got a Type-C to\\nType-C charging cable, all nice environmentally-friendly\\npackaging. Hey, look at that. We still get a power adapter. Hey, even this is mostly paper. Very nice. They don\\'t wrap all the\\nchargers in plastic anymore. There\\'s one little plastic\\nbit at the end here, more of a sticker than a plastic. That is awesome.\\n- [Andy] Is that a charger? - Yeah, it\\'s a charger, man. What a concept. How many Apple logo\\nstickers do I get, though? I only got one with the- - [Andy] iPhone.\\n- What, with the iPhone 12. Hey, there you go. You buy the MacBook, you get two. See, me, I don\\'t think that\\nApple put big enough logos on their devices. So I\\'ma go ahead, I\\'ma fix that for them. Okay, here we go. There we go. - [Andy] Sure.\\n- What do you think, dBrand, are they going to hire me\\nto put stickers on things? I\\'m a professional\\nsticker put-er-on-er now. It\\'s official. - [Automated Voice] Press Command+F5 now to turn it on and set up your Mac. - [Linus] Triple-click, Touch ID. - [Automated Voice] To\\nlearn how to use VoiceOver to set up your Mac. - [Automated Male Voice]\\nAccessibility shortcuts. - [Andy] Why does this thing take so long? - [Automated Male Voice] Use the- - Why am I? Wait, what? Okay, whatever, I\\'m Canadian. One of the things I\\'m\\nexpecting to be most remarkable about the Apple Silicon Macs is how unremarkable the experience is the majority of the time. I had really hoped that Apple\\nwould go more aggressive with the first Apple Silicon devices, like really change up the\\nID, do something out there, but it kind of makes sense\\nthat they would stick with something more conservative because that way they\\'ll know, \"Okay, how are customers receiving this whole Apple Silicon concept, versus how are Apples\\nreceiving our new slim bezels,\" or something along those lines. Touch, just bring it back to the phones. Just bring it back to the phones. We all want it back on the phones. Andy, do you want it back on the phones? - [Andy] Oh, yeah. - Yeah, me too.\\n- [Andy] On the side button. - Or the logo at the back. It doesn\\'t even matter, just somewhere. You know what drives me crazy? Every freaking Apple device\\nhas this True Tone display part of their setup process. And you can see what\\nthe display looks like without True Tone. You can\\'t disable it. I always have to go manually\\ndisable it after it. I don\\'t like True Tone. We\\'re so close to a\\nMacBook with a touchscreen. That\\'s one of the biggest\\nthings that\\'s made it impossible for me to daily drive these things is I\\'ve gotten very accustomed\\nto having a touchscreen on my laptop. And the iPad Pro is almost there, but it\\'s running iOS, or iPad OS, excuse me. And now the MacBook Air is almost there. It\\'s got the keyboard,\\nit\\'s got the battery life. It\\'s got the beautiful screen but it doesn\\'t have the touchscreen. They make two devices. And if I could just smoosh them into one, could actually be extremely compelling. Like what are they quoting? Something like 18 hours of battery life while playing back video on this thing? - [Jono] Yup. - Flipping crazy. Honestly, Andy, I\\'ll tell you, one of the most interesting\\nperspectives that I\\'ve heard on the new Apple Silicon MacBooks is that maybe it actually doesn\\'t matter what the performance is\\nlike in x86 application X or legacy developer tool Y. Maybe it doesn\\'t matter at all because the vast majority of people just use their laptops pretty\\nmuch like a Chromebook anyway, which is why Chromebooks exist. And if you did everything\\nwithin a browser, there is absolutely no\\nreason that this device couldn\\'t provide a perfectly\\ngreat user experience. Andy, can you help me with this? - [Andy] Mm-hmm. - [Linus] How do I make this full screen without making it\\ncompletely immersive mode? - [Andy] Press Option. And then press the green button. (upbeat music) - Why is that not the\\nmore default behavior? Why wouldn\\'t it be Option,\\ngreen button for this stupid, I can\\'t see- - [Andy] So you can use\\nmulti-finger to swipe between pages. - I don\\'t know. Maybe that\\'s just a personal discomfort, not being able to see the\\ndock or the menu at the top. I just, I can\\'t, I can\\'t do it. It makes me really uncomfortable. Here we go. A little bit of chug there. Honestly, that\\'s not bad for\\nrunning in a browser though. Let\\'s be realistic. Now this is a pretty light 3D application. But what I like about it is\\nthat it\\'s very realistic. I would say that pop-in looks\\nlike about what I would expect from a thin and light class notebook. It\\'s not amazing. It\\'s not like, \"Oh, wow. I can\\'t believe it. I\\'ve never seen anything\\nlike this before,\" but it\\'s not bad. It\\'s fine. Using significant energy in Safari. I wish you could just set\\nit to never charge past 80%. It would last so much longer. You know how I mentioned,\\nso many people use their computers like a Chromebook. Honestly, for my laptop, I hardly ever touch anything\\noutside of a browser. I actually am one of those. I\\'m trying to imagine an\\napplication that I would install. I mean, something like OBS, I\\'ll use my laptop for capture sometimes. Actually, that\\'s something\\nthat I would love to know if I could do with this. Oh my god, this installation\\nprocess is so stupid. Why do I have to drag the thing? - [Andy] No, it\\'s so simple. - Why do I have to do that? - [Andy] It\\'s so simple. - I already clicked on it. This is just unnecessary. - [Andy] It\\'s like, after\\nthe drag, you\\'re installing. You don\\'t have to click\\nthrough the things. - Okay, yeah, sure, that\\'s fair. But compared to something like Ninite, where you have an unintended\\ninstall in Windows, you just double-click it, it\\'s completely installed. What is this? Why have this at all? You\\'re right.\\n- The whole package. - You\\'re right, there are aspects of it that are more painless than\\nthe windows experience, but this is also just\\ncompletely unnecessary, and we could just not have it. Who\\'s this video brought to you by? This video is brought to you by Manscaped. Manscaped hooked us up with their new performance package kit, which comes with a ton of stuff. Their new Lawn Mower waterproof trimmer with advanced skin-safe technology, which helps reduce nicks and cuts. Their Crop Preserver ball deodorant, their Weed Whacker nose\\nand ear hair trimmer and their new Shears 2.0 luxury nail kit. Just go to manscapes.com/circuit\\nto get 20% off, plus free international shipping. Plus, you\\'ll get their Shed travel bag and a pair of their\\nanti-chafing boxer briefs available for a limited time. So here\\'s something that I\\nwould do with a computer. Video, so let\\'s change\\nto 1920 by 1200, I guess. Let\\'s try x264 for our encoder and then some reasonable\\nbit rate like 30 megabit. Normally, we would go\\nhigher for video capture that we\\'re planning to\\nactually use in a video. But I just want to see. I mean, we\\'re running like\\nit\\'s non-native, right? Sort of. No properties available. Well, oh, here we go.\\nHere we go, here we go. This is another system preference thing. It was just in the background. Okay, okay, let\\'s try this again. Whoo. OBS. Hey, there it is, just like that. Okay, start recording. Nice, we\\'ve even got a CPU usage monitor doodadamajig down here. So what are we sitting at? Now, what I wonder is, does that mean 45% of the\\nfour high-performance cores, or does that mean 45% of\\nthe entire 8-core CPU? How is that divided up? Very interesting. Where are these recording to, I wonder? 30 megabit. Oh yeah, right, we\\'re\\nusing software encoding. Of course it looks fine. Does that mean 45% of-\\nMicrophone sounds really good. the four high-performance cores? Or does that mean 45% of\\nthe entire 8-core CPU? That\\'s really good for just a dumb array\\nmicrophone built in to... Where is it even? Interesting. I don\\'t know. I\\'ll find it later. It\\'s not terribly\\nimportant for the moment, but both the microphone\\nand speakers are impressive right out of the box. But then we already knew that. Man, the recent MacBooks\\nhave really good speakers. - [Andy] The newer MacBook Air has slightly better brightness compared to the last gen. - Oh yeah, that\\'s right. I think, what is it? 400 nit, something like that? - [Andy] 400 nits versus like 350. - Yep, 400 nit brightness,\\nso still not an HDR display by any stretch of the imagination. But, who knows? As this Apple Silicon continues to evolve, we might gain more power savings there that can then be allocated\\nto better backlights or, better yet, a nice\\nefficient OLED displays, and we\\'ll finally get good HDR on mobile. Well, that\\'s pretty much it\\nfor first impressions, anyway. So far, I mean, it\\'s seamless. Even something as what I\\nwould consider to be niche as some rando open-source\\nscreen recording software just worked. I\\'ll leave it to Andy to, or, Andy, I\\'ll leave it to Anthony to try out some more really random stuff though. Make sure you\\'re subscribed\\nto Short Circuit. And, of course, make\\nsure you\\'re subscribed to Linus Tech Tips for the full review of this device.']"
            ]
          },
          "metadata": {},
          "execution_count": 35
        }
      ]
    },
    {
      "cell_type": "code",
      "source": [
        "!pip install tiktoken"
      ],
      "metadata": {
        "colab": {
          "base_uri": "https://localhost:8080/"
        },
        "id": "2V2yfGdxZTi7",
        "outputId": "5bb4305e-9cdf-4be8-85b7-77a8ec8ef3b2"
      },
      "execution_count": 25,
      "outputs": [
        {
          "output_type": "stream",
          "name": "stdout",
          "text": [
            "Requirement already satisfied: tiktoken in /usr/local/lib/python3.10/dist-packages (0.5.1)\n",
            "Requirement already satisfied: regex>=2022.1.18 in /usr/local/lib/python3.10/dist-packages (from tiktoken) (2023.6.3)\n",
            "Requirement already satisfied: requests>=2.26.0 in /usr/local/lib/python3.10/dist-packages (from tiktoken) (2.31.0)\n",
            "Requirement already satisfied: charset-normalizer<4,>=2 in /usr/local/lib/python3.10/dist-packages (from requests>=2.26.0->tiktoken) (3.3.0)\n",
            "Requirement already satisfied: idna<4,>=2.5 in /usr/local/lib/python3.10/dist-packages (from requests>=2.26.0->tiktoken) (3.4)\n",
            "Requirement already satisfied: urllib3<3,>=1.21.1 in /usr/local/lib/python3.10/dist-packages (from requests>=2.26.0->tiktoken) (2.0.6)\n",
            "Requirement already satisfied: certifi>=2017.4.17 in /usr/local/lib/python3.10/dist-packages (from requests>=2.26.0->tiktoken) (2023.7.22)\n"
          ]
        }
      ]
    },
    {
      "cell_type": "code",
      "source": [
        "pip install youtube-transcript-api"
      ],
      "metadata": {
        "colab": {
          "base_uri": "https://localhost:8080/"
        },
        "id": "tdcVmeENZj8G",
        "outputId": "00a43a44-ddd4-48f1-d79d-a6684b7bd587"
      },
      "execution_count": 26,
      "outputs": [
        {
          "output_type": "stream",
          "name": "stdout",
          "text": [
            "Requirement already satisfied: youtube-transcript-api in /usr/local/lib/python3.10/dist-packages (0.6.1)\n",
            "Requirement already satisfied: requests in /usr/local/lib/python3.10/dist-packages (from youtube-transcript-api) (2.31.0)\n",
            "Requirement already satisfied: charset-normalizer<4,>=2 in /usr/local/lib/python3.10/dist-packages (from requests->youtube-transcript-api) (3.3.0)\n",
            "Requirement already satisfied: idna<4,>=2.5 in /usr/local/lib/python3.10/dist-packages (from requests->youtube-transcript-api) (3.4)\n",
            "Requirement already satisfied: urllib3<3,>=1.21.1 in /usr/local/lib/python3.10/dist-packages (from requests->youtube-transcript-api) (2.0.6)\n",
            "Requirement already satisfied: certifi>=2017.4.17 in /usr/local/lib/python3.10/dist-packages (from requests->youtube-transcript-api) (2023.7.22)\n"
          ]
        }
      ]
    },
    {
      "cell_type": "code",
      "source": [
        "pip install pytube"
      ],
      "metadata": {
        "colab": {
          "base_uri": "https://localhost:8080/"
        },
        "id": "jCggcwd5ZqKd",
        "outputId": "aaa91a0c-71ee-47c1-8e13-006ad0ad10ff"
      },
      "execution_count": 27,
      "outputs": [
        {
          "output_type": "stream",
          "name": "stdout",
          "text": [
            "Requirement already satisfied: pytube in /usr/local/lib/python3.10/dist-packages (15.0.0)\n"
          ]
        }
      ]
    },
    {
      "cell_type": "code",
      "source": [],
      "metadata": {
        "id": "U_Zri1rbZumh"
      },
      "execution_count": null,
      "outputs": []
    },
    {
      "cell_type": "code",
      "source": [],
      "metadata": {
        "id": "TLVTA0wFmqwR"
      },
      "execution_count": null,
      "outputs": []
    }
  ]
}